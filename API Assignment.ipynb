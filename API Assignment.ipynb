{
 "cells": [
  {
   "cell_type": "code",
   "execution_count": null,
   "id": "9e76a2db-b1d1-4ce9-b886-a740b83548a1",
   "metadata": {},
   "outputs": [],
   "source": [
    "Q1) What is an API? Give an example, where an API is used in real life.\n",
    "Ans: API is an application programming inerface that allows software applications to interact with each other.\n",
    "     Streaming services like Spotify and Netflix use APIs to distribute content. Automotive companies like Tesla\n",
    "     send software updates via APIs.In a rideshare app to share mobile payment ,in google maps,in travel booking,E-commerce \n",
    "     API is used."
   ]
  },
  {
   "cell_type": "code",
   "execution_count": null,
   "id": "3d91e979-9216-4e56-a52e-83dcb4fc9585",
   "metadata": {},
   "outputs": [],
   "source": [
    "Q2) Give advantages and disadvantages of using API.\n",
    "Ans: Advantages of API : 1)Efficiency- When you have content that is automaticallypublished and made available on different\n",
    "     channels simultaneously, APIs allow for more efficient data distribution.\n",
    "     2)Adaptability- Onw of the greatest benefits of APIs is the ability it has to adapt to changes through data migration \n",
    "     and flexibility of services.\n",
    "     Disadvantages of API: 1) Creating API is a very time- consuming process.\n",
    "     2) Maintainance cost is very high.\n",
    "     3) Imprecise boundary delineation.\n",
    "     4) A fixed scale is necessary."
   ]
  },
  {
   "cell_type": "code",
   "execution_count": null,
   "id": "9c5ae90b-4420-4adc-8d3b-26bebcfae0ac",
   "metadata": {},
   "outputs": [],
   "source": [
    "Q3) What is a Web API? Differentiate between API and Web API.\n",
    "Ans: Web API is a set of standards and protocols for accessing web-based software applications or web tools.\n",
    "     API is an interface that exposes an applications data to outside software whereas web applications are one type of API \n",
    "    with stricter requirements.Web service is used for REST,SOAP,and XML-RPC for communication,while API is used for any \n",
    "    style of communication."
   ]
  },
  {
   "cell_type": "code",
   "execution_count": null,
   "id": "69f51eda-f198-436a-b242-b006983c29be",
   "metadata": {},
   "outputs": [],
   "source": [
    "Q4) Explain REST and SOAP Architecture. Mention shortcomings of SOAP.\n",
    "Ans: REST is set of guidelines that offers flexible implementation.REST is an architectural style.REST APIs are lightweight.\n",
    "     SOAP is a protocol with specific requirements like XML messaging.SOAP is a protocol for sending and receiving message\n",
    "     between applications.\n",
    "     Shortcomings of SOAP: 1)SOAP is used only XML format data in web service,whereas JSON and other lightweight formats are \n",
    "     not supported by it.\n",
    "     2) There are no security features in SOAP applications.\n",
    "     3) It is slow because it uses XML format,whereas,the payload for a simple string message is large."
   ]
  },
  {
   "cell_type": "code",
   "execution_count": null,
   "id": "6541a591-e28f-423a-8f80-dd03f9794380",
   "metadata": {},
   "outputs": [],
   "source": [
    "Q5) Differentiate between REST and SOAP.\n",
    "Ans: 1) SOAP is a protocol,whereas REST is an architectual style.\n",
    "     2) SOAP is more secure as compare to REST.\n",
    "     3)REST calls can be cached, while SOAP-bsed calls cannot be catched.\n",
    "     4)REST APIs access a resourse for data(a URI),SOAP APIs perform an operation."
   ]
  }
 ],
 "metadata": {
  "kernelspec": {
   "display_name": "Python 3 (ipykernel)",
   "language": "python",
   "name": "python3"
  },
  "language_info": {
   "codemirror_mode": {
    "name": "ipython",
    "version": 3
   },
   "file_extension": ".py",
   "mimetype": "text/x-python",
   "name": "python",
   "nbconvert_exporter": "python",
   "pygments_lexer": "ipython3",
   "version": "3.10.8"
  }
 },
 "nbformat": 4,
 "nbformat_minor": 5
}
